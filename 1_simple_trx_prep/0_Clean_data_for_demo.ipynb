{
 "cells": [
  {
   "cell_type": "markdown",
   "metadata": {
    "toc": true
   },
   "source": [
    "<h1>Table of Contents<span class=\"tocSkip\"></span></h1>\n",
    "<div class=\"toc\"><ul class=\"toc-item\"><li><span><a href=\"#Check-Data\" data-toc-modified-id=\"Check-Data-1\"><span class=\"toc-item-num\">1&nbsp;&nbsp;</span>Check Data</a></span></li><li><span><a href=\"#Clean-Data\" data-toc-modified-id=\"Clean-Data-2\"><span class=\"toc-item-num\">2&nbsp;&nbsp;</span>Clean Data</a></span></li><li><span><a href=\"#Anonymize-Member-IDs\" data-toc-modified-id=\"Anonymize-Member-IDs-3\"><span class=\"toc-item-num\">3&nbsp;&nbsp;</span>Anonymize Member IDs</a></span></li></ul></div>"
   ]
  },
  {
   "cell_type": "markdown",
   "metadata": {},
   "source": [
    "<div class='alert alert-block alert-info'>\n",
    "<b>Note:</b> This notebook does NOT contain the code for the medium article, but contains some preparatory cleaning steps for the data.\n",
    "</div>"
   ]
  },
  {
   "cell_type": "code",
   "execution_count": 26,
   "metadata": {
    "ExecuteTime": {
     "end_time": "2021-05-16T12:08:06.951855Z",
     "start_time": "2021-05-16T12:08:06.840314Z"
    }
   },
   "outputs": [],
   "source": [
    "import datetime as dt\n",
    "import sys\n",
    "from pathlib import Path\n",
    "from typing import Dict, List, Tuple\n",
    "\n",
    "import codebook.EDA as EDA\n",
    "import codebook.clean as clean\n",
    "import numpy as np\n",
    "import pandas as pd\n",
    "import matplotlib.pyplot as plt\n",
    "import seaborn as sns"
   ]
  },
  {
   "cell_type": "code",
   "execution_count": 2,
   "metadata": {
    "ExecuteTime": {
     "end_time": "2021-05-16T11:17:23.347514Z",
     "start_time": "2021-05-16T11:17:23.176096Z"
    }
   },
   "outputs": [],
   "source": [
    "%load_ext autoreload\n",
    "%autoreload 2\n",
    "\n",
    "%matplotlib inline\n",
    "plt.style.use('raph-base')\n",
    "\n",
    "from IPython.core.interactiveshell import InteractiveShell\n",
    "InteractiveShell.ast_node_interactivity = 'all'\n",
    "\n",
    "pd.options.display.float_format = '{:,.2f}'.format\n",
    "pd.set_option('display.max_columns', 30)\n",
    "pd.set_option('display.expand_frame_repr', False)\n",
    "pd.set_option('max_colwidth', 800)\n",
    "\n",
    "np.random.seed(666)"
   ]
  },
  {
   "cell_type": "code",
   "execution_count": 3,
   "metadata": {
    "ExecuteTime": {
     "end_time": "2021-05-16T11:17:23.485517Z",
     "start_time": "2021-05-16T11:17:23.350518Z"
    }
   },
   "outputs": [
    {
     "name": "stdout",
     "output_type": "stream",
     "text": [
      "C:\\Users\\r2d4\\miniconda3\\envs\\py3\\python.exe\n",
      "3.8.3 (default, May 19 2020, 06:50:17) [MSC v.1916 64 bit (AMD64)]\n",
      "Pandas 1.1.3\n"
     ]
    }
   ],
   "source": [
    "print(sys.executable)\n",
    "print(sys.version)\n",
    "print(f'Pandas {pd.__version__}')"
   ]
  },
  {
   "cell_type": "code",
   "execution_count": 6,
   "metadata": {
    "ExecuteTime": {
     "end_time": "2021-05-16T11:19:10.774207Z",
     "start_time": "2021-05-16T11:19:10.367797Z"
    }
   },
   "outputs": [],
   "source": [
    "# Load from feather file\n",
    "data_raw = pd.read_parquet(\"data/0_trx_data_old.parquet\")"
   ]
  },
  {
   "cell_type": "markdown",
   "metadata": {},
   "source": [
    "### Check Data"
   ]
  },
  {
   "cell_type": "code",
   "execution_count": 8,
   "metadata": {
    "ExecuteTime": {
     "end_time": "2021-05-16T11:19:59.239872Z",
     "start_time": "2021-05-16T11:19:58.854289Z"
    }
   },
   "outputs": [
    {
     "name": "stdout",
     "output_type": "stream",
     "text": [
      "<class 'pandas.core.frame.DataFrame'>\n",
      "RangeIndex: 1623942 entries, 0 to 1623941\n",
      "Data columns (total 6 columns):\n",
      " #   Column    Non-Null Count    Dtype         \n",
      "---  ------    --------------    -----         \n",
      " 0   member    1623942 non-null  int64         \n",
      " 1   date      1623942 non-null  datetime64[ns]\n",
      " 2   trx_type  1623942 non-null  object        \n",
      " 3   device    1623942 non-null  object        \n",
      " 4   value     1623942 non-null  float32       \n",
      " 5   discount  1623942 non-null  float32       \n",
      "dtypes: datetime64[ns](1), float32(2), int64(1), object(2)\n",
      "memory usage: 61.9+ MB\n"
     ]
    }
   ],
   "source": [
    "data_raw.info()"
   ]
  },
  {
   "cell_type": "code",
   "execution_count": 57,
   "metadata": {
    "ExecuteTime": {
     "end_time": "2021-05-16T12:22:58.334163Z",
     "start_time": "2021-05-16T12:22:58.160561Z"
    }
   },
   "outputs": [
    {
     "data": {
      "text/plain": [
       "'# customers in dataset: 129,659'"
      ]
     },
     "execution_count": 57,
     "metadata": {},
     "output_type": "execute_result"
    }
   ],
   "source": [
    "# Check n of customers\n",
    "f\"# customers in dataset: {data_raw['member'].nunique():,.0f}\""
   ]
  },
  {
   "cell_type": "code",
   "execution_count": 11,
   "metadata": {
    "ExecuteTime": {
     "end_time": "2021-05-16T11:21:20.867773Z",
     "start_time": "2021-05-16T11:21:19.889652Z"
    }
   },
   "outputs": [
    {
     "data": {
      "text/html": [
       "<style  type=\"text/css\" >\n",
       "</style><table id=\"T_d6e8f42e_b638_11eb_a883_60f67737a0fb\" ><caption>trx_type</caption><thead>    <tr>        <th class=\"blank level0\" ></th>        <th class=\"col_heading level0 col0\" >counts</th>        <th class=\"col_heading level0 col1\" >prop</th>        <th class=\"col_heading level0 col2\" >cum_prop</th>    </tr></thead><tbody>\n",
       "                <tr>\n",
       "                        <th id=\"T_d6e8f42e_b638_11eb_a883_60f67737a0fblevel0_row0\" class=\"row_heading level0 row0\" >Purchase</th>\n",
       "                        <td id=\"T_d6e8f42e_b638_11eb_a883_60f67737a0fbrow0_col0\" class=\"data row0 col0\" >1,188,433</td>\n",
       "                        <td id=\"T_d6e8f42e_b638_11eb_a883_60f67737a0fbrow0_col1\" class=\"data row0 col1\" >73.2%</td>\n",
       "                        <td id=\"T_d6e8f42e_b638_11eb_a883_60f67737a0fbrow0_col2\" class=\"data row0 col2\" >73.2%</td>\n",
       "            </tr>\n",
       "            <tr>\n",
       "                        <th id=\"T_d6e8f42e_b638_11eb_a883_60f67737a0fblevel0_row1\" class=\"row_heading level0 row1\" >Activation</th>\n",
       "                        <td id=\"T_d6e8f42e_b638_11eb_a883_60f67737a0fbrow1_col0\" class=\"data row1 col0\" >262,115</td>\n",
       "                        <td id=\"T_d6e8f42e_b638_11eb_a883_60f67737a0fbrow1_col1\" class=\"data row1 col1\" >16.1%</td>\n",
       "                        <td id=\"T_d6e8f42e_b638_11eb_a883_60f67737a0fbrow1_col2\" class=\"data row1 col2\" >89.3%</td>\n",
       "            </tr>\n",
       "            <tr>\n",
       "                        <th id=\"T_d6e8f42e_b638_11eb_a883_60f67737a0fblevel0_row2\" class=\"row_heading level0 row2\" >Redemption</th>\n",
       "                        <td id=\"T_d6e8f42e_b638_11eb_a883_60f67737a0fbrow2_col0\" class=\"data row2 col0\" >161,750</td>\n",
       "                        <td id=\"T_d6e8f42e_b638_11eb_a883_60f67737a0fbrow2_col1\" class=\"data row2 col1\" >10.0%</td>\n",
       "                        <td id=\"T_d6e8f42e_b638_11eb_a883_60f67737a0fbrow2_col2\" class=\"data row2 col2\" >99.3%</td>\n",
       "            </tr>\n",
       "            <tr>\n",
       "                        <th id=\"T_d6e8f42e_b638_11eb_a883_60f67737a0fblevel0_row3\" class=\"row_heading level0 row3\" >Return</th>\n",
       "                        <td id=\"T_d6e8f42e_b638_11eb_a883_60f67737a0fbrow3_col0\" class=\"data row3 col0\" >11,644</td>\n",
       "                        <td id=\"T_d6e8f42e_b638_11eb_a883_60f67737a0fbrow3_col1\" class=\"data row3 col1\" >0.7%</td>\n",
       "                        <td id=\"T_d6e8f42e_b638_11eb_a883_60f67737a0fbrow3_col2\" class=\"data row3 col2\" >100.0%</td>\n",
       "            </tr>\n",
       "    </tbody></table>"
      ],
      "text/plain": [
       "<pandas.io.formats.style.Styler at 0x1e5ccb0d2e0>"
      ]
     },
     "metadata": {},
     "output_type": "display_data"
    },
    {
     "data": {
      "text/html": [
       "<style  type=\"text/css\" >\n",
       "</style><table id=\"T_d71f8b9e_b638_11eb_b791_60f67737a0fb\" ><caption>device</caption><thead>    <tr>        <th class=\"blank level0\" ></th>        <th class=\"col_heading level0 col0\" >counts</th>        <th class=\"col_heading level0 col1\" >prop</th>        <th class=\"col_heading level0 col2\" >cum_prop</th>    </tr></thead><tbody>\n",
       "                <tr>\n",
       "                        <th id=\"T_d71f8b9e_b638_11eb_b791_60f67737a0fblevel0_row0\" class=\"row_heading level0 row0\" >Loyalty</th>\n",
       "                        <td id=\"T_d71f8b9e_b638_11eb_b791_60f67737a0fbrow0_col0\" class=\"data row0 col0\" >734,984</td>\n",
       "                        <td id=\"T_d71f8b9e_b638_11eb_b791_60f67737a0fbrow0_col1\" class=\"data row0 col1\" >45.3%</td>\n",
       "                        <td id=\"T_d71f8b9e_b638_11eb_b791_60f67737a0fbrow0_col2\" class=\"data row0 col2\" >45.3%</td>\n",
       "            </tr>\n",
       "            <tr>\n",
       "                        <th id=\"T_d71f8b9e_b638_11eb_b791_60f67737a0fblevel0_row1\" class=\"row_heading level0 row1\" >Payment</th>\n",
       "                        <td id=\"T_d71f8b9e_b638_11eb_b791_60f67737a0fbrow1_col0\" class=\"data row1 col0\" >465,093</td>\n",
       "                        <td id=\"T_d71f8b9e_b638_11eb_b791_60f67737a0fbrow1_col1\" class=\"data row1 col1\" >28.6%</td>\n",
       "                        <td id=\"T_d71f8b9e_b638_11eb_b791_60f67737a0fbrow1_col2\" class=\"data row1 col2\" >73.9%</td>\n",
       "            </tr>\n",
       "            <tr>\n",
       "                        <th id=\"T_d71f8b9e_b638_11eb_b791_60f67737a0fblevel0_row2\" class=\"row_heading level0 row2\" >Financial Voucher</th>\n",
       "                        <td id=\"T_d71f8b9e_b638_11eb_b791_60f67737a0fbrow2_col0\" class=\"data row2 col0\" >423,865</td>\n",
       "                        <td id=\"T_d71f8b9e_b638_11eb_b791_60f67737a0fbrow2_col1\" class=\"data row2 col1\" >26.1%</td>\n",
       "                        <td id=\"T_d71f8b9e_b638_11eb_b791_60f67737a0fbrow2_col2\" class=\"data row2 col2\" >100.0%</td>\n",
       "            </tr>\n",
       "    </tbody></table>"
      ],
      "text/plain": [
       "<pandas.io.formats.style.Styler at 0x1e5ccb01580>"
      ]
     },
     "metadata": {},
     "output_type": "display_data"
    }
   ],
   "source": [
    "# Check distinct devices and trx types\n",
    "EDA.display_value_counts(data_raw[[\"trx_type\", \"device\"]])"
   ]
  },
  {
   "cell_type": "code",
   "execution_count": 12,
   "metadata": {
    "ExecuteTime": {
     "end_time": "2021-05-16T11:23:04.619323Z",
     "start_time": "2021-05-16T11:23:04.446895Z"
    }
   },
   "outputs": [
    {
     "data": {
      "text/plain": [
       "(Timestamp('2018-01-01 00:00:00'), Timestamp('2019-12-31 00:00:00'))"
      ]
     },
     "execution_count": 12,
     "metadata": {},
     "output_type": "execute_result"
    }
   ],
   "source": [
    "# Check observation period\n",
    "data_raw[\"date\"].min(), data_raw[\"date\"].max()"
   ]
  },
  {
   "cell_type": "markdown",
   "metadata": {},
   "source": [
    "### Clean Data"
   ]
  },
  {
   "cell_type": "code",
   "execution_count": 16,
   "metadata": {
    "ExecuteTime": {
     "end_time": "2021-05-16T11:30:24.268733Z",
     "start_time": "2021-05-16T11:30:23.868063Z"
    }
   },
   "outputs": [],
   "source": [
    "data_clean = data_raw.copy()\n",
    "\n",
    "# Remove return transactions for simplicity\n",
    "data_clean = data_clean[~data_clean[\"trx_type\"].isin([\"Return\"])]\n",
    "\n",
    "# Remove the distinction between the payment devices (loyalty categories) for simplicity\n",
    "data_clean[\"device\"] = data_clean[\"device\"].replace(\"Loyalty\", \"Payment\")\n",
    "\n",
    "# Rename Vouchers for simplicity\n",
    "data_clean[\"device\"] = data_clean[\"device\"].replace(\"Financial Voucher\", \"Loyalty Voucher\")"
   ]
  },
  {
   "cell_type": "code",
   "execution_count": 17,
   "metadata": {
    "ExecuteTime": {
     "end_time": "2021-05-16T11:30:37.733750Z",
     "start_time": "2021-05-16T11:30:36.775578Z"
    }
   },
   "outputs": [
    {
     "data": {
      "text/html": [
       "<style  type=\"text/css\" >\n",
       "</style><table id=\"T_22d5536e_b63a_11eb_8a06_60f67737a0fb\" ><caption>trx_type</caption><thead>    <tr>        <th class=\"blank level0\" ></th>        <th class=\"col_heading level0 col0\" >counts</th>        <th class=\"col_heading level0 col1\" >prop</th>        <th class=\"col_heading level0 col2\" >cum_prop</th>    </tr></thead><tbody>\n",
       "                <tr>\n",
       "                        <th id=\"T_22d5536e_b63a_11eb_8a06_60f67737a0fblevel0_row0\" class=\"row_heading level0 row0\" >Purchase</th>\n",
       "                        <td id=\"T_22d5536e_b63a_11eb_8a06_60f67737a0fbrow0_col0\" class=\"data row0 col0\" >1,188,433</td>\n",
       "                        <td id=\"T_22d5536e_b63a_11eb_8a06_60f67737a0fbrow0_col1\" class=\"data row0 col1\" >73.7%</td>\n",
       "                        <td id=\"T_22d5536e_b63a_11eb_8a06_60f67737a0fbrow0_col2\" class=\"data row0 col2\" >73.7%</td>\n",
       "            </tr>\n",
       "            <tr>\n",
       "                        <th id=\"T_22d5536e_b63a_11eb_8a06_60f67737a0fblevel0_row1\" class=\"row_heading level0 row1\" >Activation</th>\n",
       "                        <td id=\"T_22d5536e_b63a_11eb_8a06_60f67737a0fbrow1_col0\" class=\"data row1 col0\" >262,115</td>\n",
       "                        <td id=\"T_22d5536e_b63a_11eb_8a06_60f67737a0fbrow1_col1\" class=\"data row1 col1\" >16.3%</td>\n",
       "                        <td id=\"T_22d5536e_b63a_11eb_8a06_60f67737a0fbrow1_col2\" class=\"data row1 col2\" >90.0%</td>\n",
       "            </tr>\n",
       "            <tr>\n",
       "                        <th id=\"T_22d5536e_b63a_11eb_8a06_60f67737a0fblevel0_row2\" class=\"row_heading level0 row2\" >Redemption</th>\n",
       "                        <td id=\"T_22d5536e_b63a_11eb_8a06_60f67737a0fbrow2_col0\" class=\"data row2 col0\" >161,750</td>\n",
       "                        <td id=\"T_22d5536e_b63a_11eb_8a06_60f67737a0fbrow2_col1\" class=\"data row2 col1\" >10.0%</td>\n",
       "                        <td id=\"T_22d5536e_b63a_11eb_8a06_60f67737a0fbrow2_col2\" class=\"data row2 col2\" >100.0%</td>\n",
       "            </tr>\n",
       "    </tbody></table>"
      ],
      "text/plain": [
       "<pandas.io.formats.style.Styler at 0x1e5ccd09670>"
      ]
     },
     "metadata": {},
     "output_type": "display_data"
    },
    {
     "data": {
      "text/html": [
       "<style  type=\"text/css\" >\n",
       "</style><table id=\"T_23078d5a_b63a_11eb_b8cc_60f67737a0fb\" ><caption>device</caption><thead>    <tr>        <th class=\"blank level0\" ></th>        <th class=\"col_heading level0 col0\" >counts</th>        <th class=\"col_heading level0 col1\" >prop</th>        <th class=\"col_heading level0 col2\" >cum_prop</th>    </tr></thead><tbody>\n",
       "                <tr>\n",
       "                        <th id=\"T_23078d5a_b63a_11eb_b8cc_60f67737a0fblevel0_row0\" class=\"row_heading level0 row0\" >Payment</th>\n",
       "                        <td id=\"T_23078d5a_b63a_11eb_b8cc_60f67737a0fbrow0_col0\" class=\"data row0 col0\" >1,188,433</td>\n",
       "                        <td id=\"T_23078d5a_b63a_11eb_b8cc_60f67737a0fbrow0_col1\" class=\"data row0 col1\" >73.7%</td>\n",
       "                        <td id=\"T_23078d5a_b63a_11eb_b8cc_60f67737a0fbrow0_col2\" class=\"data row0 col2\" >73.7%</td>\n",
       "            </tr>\n",
       "            <tr>\n",
       "                        <th id=\"T_23078d5a_b63a_11eb_b8cc_60f67737a0fblevel0_row1\" class=\"row_heading level0 row1\" >Loyalty Voucher</th>\n",
       "                        <td id=\"T_23078d5a_b63a_11eb_b8cc_60f67737a0fbrow1_col0\" class=\"data row1 col0\" >423,865</td>\n",
       "                        <td id=\"T_23078d5a_b63a_11eb_b8cc_60f67737a0fbrow1_col1\" class=\"data row1 col1\" >26.3%</td>\n",
       "                        <td id=\"T_23078d5a_b63a_11eb_b8cc_60f67737a0fbrow1_col2\" class=\"data row1 col2\" >100.0%</td>\n",
       "            </tr>\n",
       "    </tbody></table>"
      ],
      "text/plain": [
       "<pandas.io.formats.style.Styler at 0x1e5cbc32a00>"
      ]
     },
     "metadata": {},
     "output_type": "display_data"
    }
   ],
   "source": [
    "# Check results\n",
    "EDA.display_value_counts(data_clean[[\"trx_type\", \"device\"]])"
   ]
  },
  {
   "cell_type": "markdown",
   "metadata": {},
   "source": [
    "### Anonymize Member IDs"
   ]
  },
  {
   "cell_type": "code",
   "execution_count": 39,
   "metadata": {
    "ExecuteTime": {
     "end_time": "2021-05-16T12:12:17.117355Z",
     "start_time": "2021-05-16T12:12:17.003977Z"
    }
   },
   "outputs": [],
   "source": [
    "def encode_IDs(\n",
    "    id_column: pd.Series\n",
    ") -> Tuple[Dict[str, str], List[str]]:\n",
    "    \"\"\"Return a dictionary with original ID as key\n",
    "    and replacement string as value for every unique\n",
    "    ID, and also a list of the replacements to be \n",
    "    used as stand-in for the original column.\n",
    "    \"\"\"\n",
    "    id_column = id_column.astype(str).copy()\n",
    "    len_encoding = len(str(id_column.nunique()))\n",
    "    coded_dict = {}\n",
    "    cter = 1\n",
    "    coded_values = []\n",
    "    \n",
    "    for val in id_column:\n",
    "        if val not in coded_dict:\n",
    "            ctr_str = str(cter)\n",
    "            coded_dict[val] = ctr_str.zfill(len_encoding - len(ctr_str))\n",
    "            cter += 1\n",
    "        coded_values.append(coded_dict[val])\n",
    "\n",
    "    return coded_dict, coded_values"
   ]
  },
  {
   "cell_type": "code",
   "execution_count": 41,
   "metadata": {
    "ExecuteTime": {
     "end_time": "2021-05-16T12:12:56.436470Z",
     "start_time": "2021-05-16T12:12:53.618086Z"
    }
   },
   "outputs": [],
   "source": [
    "coded_dict, coded_values = encode_IDs(data_clean[\"member\"])"
   ]
  },
  {
   "cell_type": "code",
   "execution_count": 45,
   "metadata": {
    "ExecuteTime": {
     "end_time": "2021-05-16T12:15:36.313526Z",
     "start_time": "2021-05-16T12:15:36.036788Z"
    }
   },
   "outputs": [],
   "source": [
    "data_coded = data_clean.copy()\n",
    "data_coded[\"member\"] = coded_values"
   ]
  },
  {
   "cell_type": "code",
   "execution_count": 55,
   "metadata": {
    "ExecuteTime": {
     "end_time": "2021-05-16T12:22:10.743549Z",
     "start_time": "2021-05-16T12:22:10.504158Z"
    }
   },
   "outputs": [
    {
     "data": {
      "text/plain": [
       "[('249323', '129625'),\n",
       " ('249335', '129626'),\n",
       " ('249337', '129627'),\n",
       " ('249372', '129628'),\n",
       " ('249373', '129629')]"
      ]
     },
     "execution_count": 55,
     "metadata": {},
     "output_type": "execute_result"
    }
   ],
   "source": [
    "# Check results\n",
    "list(coded_dict.items())[-5:]\n",
    "\n",
    "assert data_clean[data_clean[\"member\"] == 249323][\"value\"].equals(\n",
    "    data_coded[data_coded[\"member\"] == \"129625\"][\"value\"]\n",
    ")"
   ]
  },
  {
   "cell_type": "code",
   "execution_count": 62,
   "metadata": {
    "ExecuteTime": {
     "end_time": "2021-05-16T12:30:29.272040Z",
     "start_time": "2021-05-16T12:30:28.320999Z"
    }
   },
   "outputs": [],
   "source": [
    "# Save to parquet file - CHECK YOUR INDEX\n",
    "filename = '1_trx_data_clean.parquet'\n",
    "rel_path = 'data'\n",
    "\n",
    "if not Path(rel_path).exists():\n",
    "    Path(rel_path).mkdir()\n",
    "data_coded.to_parquet(Path(rel_path) / filename, index=False)"
   ]
  }
 ],
 "metadata": {
  "hide_input": false,
  "kernelspec": {
   "display_name": "Python 3",
   "language": "python",
   "name": "python3"
  },
  "language_info": {
   "codemirror_mode": {
    "name": "ipython",
    "version": 3
   },
   "file_extension": ".py",
   "mimetype": "text/x-python",
   "name": "python",
   "nbconvert_exporter": "python",
   "pygments_lexer": "ipython3",
   "version": "3.8.3"
  },
  "toc": {
   "base_numbering": 1,
   "nav_menu": {},
   "number_sections": true,
   "sideBar": false,
   "skip_h1_title": true,
   "title_cell": "Table of Contents",
   "title_sidebar": "Contents",
   "toc_cell": true,
   "toc_position": {},
   "toc_section_display": true,
   "toc_window_display": true
  }
 },
 "nbformat": 4,
 "nbformat_minor": 4
}
